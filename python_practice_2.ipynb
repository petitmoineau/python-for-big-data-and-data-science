{
  "cells": [
    {
      "cell_type": "markdown",
      "metadata": {
        "id": "p9wwt0LZzNvn"
      },
      "source": [
        "# I. Змінні та памʼять."
      ]
    },
    {
      "cell_type": "markdown",
      "metadata": {
        "id": "HTJrrm95xSV9"
      },
      "source": [
        "1. Створити змінні, що посилаються на два цілих числа, що однакові за значенням, де значення належить проміжку від -5 до 256. Перевірте, чи будуть ці змінні рівні тільки за значенням або ж ще будуть посилатися на один і той самий обʼєкт в памʼяті? Наведіть код та дайте текстову відповідь нижче."
      ]
    },
    {
      "cell_type": "code",
      "execution_count": 6,
      "metadata": {
        "id": "TATni2vzayjG"
      },
      "outputs": [
        {
          "name": "stdout",
          "output_type": "stream",
          "text": [
            "equal by value: True\n",
            "equal by reference: True\n"
          ]
        }
      ],
      "source": [
        "b = 112\n",
        "c = 112\n",
        "\n",
        "print(f\"equal by value: {b == c}\")\n",
        "print(f\"equal by reference: {b is c}\")"
      ]
    },
    {
      "cell_type": "markdown",
      "metadata": {
        "id": "zfRG_o3WbRdg"
      },
      "source": [
        "Змінні рівні не тільки за значеннями, але й посилаються вони також на один і той самий об'єкт в пам'яті - в Python є поняття \"interning\", за яким деякі незмінні об'єкти (маленькі цілі числа та деякі рядки) зберігаються в пам'яті як один і той самий об'єкт, щоб оптимізувати використання пам'яті та прискорити порівняння."
      ]
    },
    {
      "cell_type": "markdown",
      "metadata": {
        "id": "ISORzt6M3vAt"
      },
      "source": [
        "2. За допомогою якої функції можна перевірити належність змінної до вказаного типу даних (напр. чи змінна True посилається на значення булевого та цілочисленого типу)?"
      ]
    },
    {
      "cell_type": "code",
      "execution_count": 4,
      "metadata": {
        "id": "9vL9CFaMbfyo"
      },
      "outputs": [
        {
          "name": "stdout",
          "output_type": "stream",
          "text": [
            "True\n",
            "False\n"
          ]
        }
      ],
      "source": [
        "print(isinstance(b, int))\n",
        "print(isinstance(b, bool))"
      ]
    },
    {
      "cell_type": "markdown",
      "metadata": {
        "id": "tRxugKAxwYLw"
      },
      "source": [
        "# II. Цілі числа та числа з рухомою комою"
      ]
    },
    {
      "cell_type": "markdown",
      "metadata": {
        "id": "NLHkgd5Gybc8"
      },
      "source": [
        "3. Створити дві змінні, що посилаються на будь-які ціле число та число з рухомою комою та продемонструвати такі арифметичні операції: додавання, віднімання, ділення, множення, ділення без залишку, ділення по модулю, приведення до ступеню. Всі результати операцій вивести на екран."
      ]
    },
    {
      "cell_type": "code",
      "execution_count": 8,
      "metadata": {
        "id": "nb8u_3pjb2cA"
      },
      "outputs": [
        {
          "name": "stdout",
          "output_type": "stream",
          "text": [
            "d + e = 6.343999999999999\n",
            "d - e = -0.34399999999999986\n",
            "d * e = 10.032\n",
            "d / e = 0.8971291866028709\n",
            "d % e = 3.0\n",
            "d // e = 0.0\n",
            "d ** e = 39.39975087467707\n"
          ]
        }
      ],
      "source": [
        "d = 3\n",
        "e = 3.344\n",
        "\n",
        "print(f\"d + e = {d + e}\")\n",
        "print(f\"d - e = {d - e}\")\n",
        "print(f\"d * e = {d * e}\")\n",
        "print(f\"d / e = {d / e}\")\n",
        "print(f\"d % e = {d % e}\")\n",
        "print(f\"d // e = {d // e}\")\n",
        "print(f\"d ** e = {d ** e}\")"
      ]
    },
    {
      "cell_type": "markdown",
      "metadata": {
        "id": "1kBClKgPzZnC"
      },
      "source": [
        "4. Використовуючи змінні з вправи 3, продемонструйте механізм явного перетворення типів, де числа з рухомою комою перетворюються на цілі числа. Також визначте змінну, що посилається на значення булевого типу і спробуйте явно привести її до цілого числа."
      ]
    },
    {
      "cell_type": "code",
      "execution_count": 11,
      "metadata": {
        "id": "TbqJbkeUcKsD"
      },
      "outputs": [
        {
          "name": "stdout",
          "output_type": "stream",
          "text": [
            "e (3.344) after explicit conversion to int : 3\n",
            "bool variable (True) after explicit conversion to int: 1\n"
          ]
        }
      ],
      "source": [
        "f = int(e)\n",
        "print(f'e ({e}) after explicit conversion to int : {f}')\n",
        "\n",
        "bool_value = True\n",
        "bool_to_int = int(bool_value)\n",
        "print(f'bool variable ({bool_value}) after explicit conversion to int: {bool_to_int}')"
      ]
    },
    {
      "cell_type": "markdown",
      "metadata": {
        "id": "EVJ7AflwxrZi"
      },
      "source": [
        "# IІІ. Рядки (String)."
      ]
    },
    {
      "cell_type": "markdown",
      "metadata": {
        "id": "_s5ECzz9zE61"
      },
      "source": [
        "5. Створити пустий рядок двома різними способами."
      ]
    },
    {
      "cell_type": "code",
      "execution_count": 24,
      "metadata": {
        "id": "fkZJHu9Scvc-"
      },
      "outputs": [],
      "source": [
        "empty_str = ''\n",
        "empty_str_1 = \"\"\n"
      ]
    },
    {
      "cell_type": "markdown",
      "metadata": {
        "id": "4Bdn9J3MzLf_"
      },
      "source": [
        "6. Створити рядок з апострофом. Зробити його сирим. Вивести обидва рядка на екран."
      ]
    },
    {
      "cell_type": "code",
      "execution_count": 26,
      "metadata": {
        "id": "ivji_hsmc0GH"
      },
      "outputs": [
        {
          "name": "stdout",
          "output_type": "stream",
          "text": [
            "'\n",
            "\\'\n"
          ]
        }
      ],
      "source": [
        "str_w_ap = '\\''\n",
        "str_w_ap_raw = r'\\''\n",
        "\n",
        "print(str_w_ap)\n",
        "print(str_w_ap_raw)"
      ]
    },
    {
      "cell_type": "markdown",
      "metadata": {
        "id": "bg_d8wM4z8dS"
      },
      "source": [
        "7. Створити змінну, що буде посилатися на Ваше прізвище латинкою. Створити форматований рядок, який буде мати вигляд \"My surname is ______\", де на місці нижніх підкреслень буде Ваше прізвище зі змінної."
      ]
    },
    {
      "cell_type": "code",
      "execution_count": 27,
      "metadata": {
        "id": "kuxFgpWndACq"
      },
      "outputs": [
        {
          "name": "stdout",
          "output_type": "stream",
          "text": [
            "My surname is Parkhomenko\n"
          ]
        }
      ],
      "source": [
        "surname = 'Parkhomenko'\n",
        "print(f'My surname is {surname}')"
      ]
    },
    {
      "cell_type": "markdown",
      "metadata": {
        "id": "1Nc6RqvQ0hxU"
      },
      "source": [
        "8. Маючи рядок \"My dog is crazy.\" перетворити його на список [\"my\", \"dog\", \"is\", \"crazy\"]"
      ]
    },
    {
      "cell_type": "code",
      "execution_count": 28,
      "metadata": {
        "id": "w1Ya4RqedUhw"
      },
      "outputs": [
        {
          "name": "stdout",
          "output_type": "stream",
          "text": [
            "['My', 'dog', 'is', 'crazy']\n"
          ]
        }
      ],
      "source": [
        "dog_str = 'My dog is crazy'\n",
        "list_dog_str = dog_str.split()\n",
        "\n",
        "print(list_dog_str)"
      ]
    },
    {
      "cell_type": "markdown",
      "metadata": {
        "id": "GYVqN9uP1D4n"
      },
      "source": [
        "# IV. Робота зі списками."
      ]
    },
    {
      "cell_type": "markdown",
      "metadata": {
        "id": "7-DeDunw2sO-"
      },
      "source": [
        "9. Створити список двома різними за синтаксисом способами. За допомогою вбудованої функції обчисліть довжину одного з них."
      ]
    },
    {
      "cell_type": "code",
      "execution_count": 36,
      "metadata": {
        "id": "zxg06Uuxdyoh"
      },
      "outputs": [
        {
          "data": {
            "text/plain": [
              "2"
            ]
          },
          "execution_count": 36,
          "metadata": {},
          "output_type": "execute_result"
        }
      ],
      "source": [
        "list_1 = [1, 2, 3, 4]\n",
        "list_2 = list(range(1, 5))\n",
        "list_3 = list_1[::2]\n",
        "\n",
        "len(list_3)"
      ]
    },
    {
      "cell_type": "markdown",
      "metadata": {
        "id": "8vmGUTjL22gI"
      },
      "source": [
        "10. Створіть два списка та за допомогою спеціального методу додайте другий з них в якості останнього елемента першого."
      ]
    },
    {
      "cell_type": "code",
      "execution_count": 43,
      "metadata": {
        "id": "uHtjWYw7d7hm"
      },
      "outputs": [
        {
          "name": "stdout",
          "output_type": "stream",
          "text": [
            "[1, 2, 3, 4, 5, 6, 7, 8, 9]\n",
            "[1, 2, 3, 4, 5, 6, 7, 8, 9, [-5, -4, -3, -2, -1, 0]]\n"
          ]
        }
      ],
      "source": [
        "list_4 = list(range(1, 10))\n",
        "list_5 = list(range(-5, 1))\n",
        "print(list_4)\n",
        "\n",
        "list_4.append(list_5)\n",
        "#list_4.extend([list_5])\n",
        "print(list_4)"
      ]
    },
    {
      "cell_type": "markdown",
      "metadata": {
        "id": "JC3BkD-67_--"
      },
      "source": [
        "11. Створіть список, де елементами цього списку також є списки. Отримай перший елемент з останнього рядка та виведи значення на екран."
      ]
    },
    {
      "cell_type": "code",
      "execution_count": 52,
      "metadata": {
        "id": "Kz2jZHsGeLlz"
      },
      "outputs": [
        {
          "name": "stdout",
          "output_type": "stream",
          "text": [
            "list_6 : [[1, 2, 3, 4], [1, 3], [1, 2, 3, 4, 5, 6, 7, 8, 9, [-5, -4, -3, -2, -1, 0]]]\n",
            "first el of the last el of list_6 : 1\n"
          ]
        }
      ],
      "source": [
        "list_6 = [list_1, list_3, list_4]\n",
        "print(f'list_6 : {list_6}')\n",
        "\n",
        "last_el = list_6[len(list_6)-1]\n",
        "first_el_of_last_el = last_el[0]\n",
        "print('first el of the last el of list_6 :', first_el_of_last_el)"
      ]
    },
    {
      "cell_type": "markdown",
      "metadata": {
        "id": "JA47PKTv8zFK"
      },
      "source": [
        "12. Створіть список з десяти елементів різного типу. Отримайте всі елементи, окрім двох перших та двох останніх та збережіть їх в новій змінній."
      ]
    },
    {
      "cell_type": "code",
      "execution_count": 53,
      "metadata": {
        "id": "_rHdUR-ueP4-"
      },
      "outputs": [
        {
          "name": "stdout",
          "output_type": "stream",
          "text": [
            "original list: [1, 'two', 3.0, 4, 'five', True, [6], {'seven': 7}, (8, 8), None]\n",
            "filtered list: [3.0, 4, 'five', True, [6], {'seven': 7}]\n"
          ]
        }
      ],
      "source": [
        "list_7 = [1, \"two\", 3.0, 4, \"five\", True, [6], {\"seven\": 7}, (8, 8), None]\n",
        "\n",
        "filtered_list = list_7[2:-2]\n",
        "\n",
        "print(\"original list:\", list_7)\n",
        "print(\"filtered list:\", filtered_list)"
      ]
    },
    {
      "cell_type": "markdown",
      "metadata": {
        "id": "pCjR1dJb1Qbi"
      },
      "source": [
        "# V. Робота з кортежами."
      ]
    },
    {
      "cell_type": "markdown",
      "metadata": {
        "id": "fAZCxAX06R_k"
      },
      "source": [
        "14. Створити кортеж з один елементом."
      ]
    },
    {
      "cell_type": "code",
      "execution_count": 54,
      "metadata": {
        "id": "H7d82WkQev3e"
      },
      "outputs": [],
      "source": [
        "tuple_1 = (1,)"
      ]
    },
    {
      "cell_type": "markdown",
      "metadata": {
        "id": "8LCtYcmI6w1M"
      },
      "source": [
        "15. Порівняйте список та кортеж. Назвіть схожості та відмінності, випадки використання."
      ]
    },
    {
      "cell_type": "markdown",
      "metadata": {
        "id": "fUsN1Hnue0C6"
      },
      "source": [
        "Схожості: 1)будь який рівень вкладеності; 2)індекси і ітерабельність; 3)можна складати різні типи даних  \n",
        "Відмінності: 1)кортеж - іммутабл, список - мутабл, тобто його елементи можна змінювати; 2) з першого пункту випливає те, що кортежі меморі ефішнт(бо ліст змінюваний і тому під час його створення виділяється більше пам'яті ніж треба, на випадок додавання нового елементу), і трохи кращі по швидкості взаємодії.   \n",
        "  \n",
        "Якщо дані не будуть змінюватись(фіксовані дані, або як ключ в словнику), краще використовувати кортеж, але якщо вони потребуватимуть доповнення, - то ліст."
      ]
    },
    {
      "cell_type": "markdown",
      "metadata": {
        "id": "m0xrwFijAmDD"
      },
      "source": [
        "16. Створіть кортеж з 11ти елементів чисел з рухомою комою та отримайте кожен парний за індексом елемент в зворотньому порядку. Наприклад, маючи (1.2, 2.3, 3.3, 4.3, 5.3, 6.3, 7.3, 8.3, 9.3, 0.3), отримати (0.3, 8.3, 6.3, 4.3, 2.3). Результат збережіть в нову змінну та виведіть на екран."
      ]
    },
    {
      "cell_type": "code",
      "execution_count": 55,
      "metadata": {
        "id": "p-5DAH6XfAGA"
      },
      "outputs": [
        {
          "name": "stdout",
          "output_type": "stream",
          "text": [
            "(11.3, 9.3, 7.3, 5.3, 3.3, 1.2)\n"
          ]
        }
      ],
      "source": [
        "tuple_2 = (1.2, 2.3, 3.3, 4.3, 5.3, 6.3, 7.3, 8.3, 9.3, 0.3, 11.3)\n",
        "\n",
        "tuple_3 = tuple_2[::-2]\n",
        "\n",
        "print(tuple_3)\n"
      ]
    },
    {
      "cell_type": "markdown",
      "metadata": {
        "id": "rW_I9dt3x6cW"
      },
      "source": [
        "# VI. Множини (Set)."
      ]
    },
    {
      "cell_type": "markdown",
      "metadata": {
        "id": "zNjRLHLw1Bgg"
      },
      "source": [
        "17. Створити множину без елементів. Після цого за допомогою методу додайте кілька різних елементів до множини. Чи множини є змінним типом даних?"
      ]
    },
    {
      "cell_type": "code",
      "execution_count": 57,
      "metadata": {
        "id": "KOv7zc2Kfo4N"
      },
      "outputs": [],
      "source": [
        "set_1 = set()\n",
        "\n",
        "set_1.add(1)\n",
        "set_1.add(2)\n",
        "set_1.add(3)"
      ]
    },
    {
      "cell_type": "markdown",
      "metadata": {
        "id": "vxS6dVYiftZQ"
      },
      "source": [
        "як бачимо, множина є змінним типом даних"
      ]
    },
    {
      "cell_type": "markdown",
      "metadata": {
        "id": "gHpT0Zw_1HEF"
      },
      "source": [
        "18. Створити множину, маючи список my_list = [1, 1, 2, 67, 67, 8, 9]. Пояснити, чому \"зникли\" деякі елементи."
      ]
    },
    {
      "cell_type": "code",
      "execution_count": 59,
      "metadata": {
        "id": "qCN4uvJ_fxmu"
      },
      "outputs": [
        {
          "name": "stdout",
          "output_type": "stream",
          "text": [
            "{1, 2, 67, 8, 9}\n"
          ]
        }
      ],
      "source": [
        "my_list = [1, 1, 2, 67, 67, 8, 9]\n",
        "set_2 = set(my_list)\n",
        "\n",
        "print(set_2)"
      ]
    },
    {
      "cell_type": "markdown",
      "metadata": {
        "id": "tFNc1e20fyny"
      },
      "source": [
        "тому що особливістю множини є те, що цей тип даних автоматично позбувається дублікатів, лишаючи унікальні значення."
      ]
    },
    {
      "cell_type": "markdown",
      "metadata": {
        "id": "SRMkGizS1UwY"
      },
      "source": [
        "19. Створіть дві множини. Продемонстуйте над ними операції: обʼєднання, різниці, пересічі та симетричної різниці. Використовуйте методи, що не змінюють множини, а створюють нові."
      ]
    },
    {
      "cell_type": "code",
      "execution_count": 65,
      "metadata": {
        "id": "h0T-VuDnf3Ri"
      },
      "outputs": [
        {
          "name": "stdout",
          "output_type": "stream",
          "text": [
            "union: {0, 1, 2, 3, 4, 'e', 'l', 'h', 'o'}\n",
            "difference: {0, 1, 2, 3, 4}\n",
            "intersection: set()\n",
            "symmetric_difference: {0, 'l', 'e', 1, 2, 3, 4, 'h', 'o'}\n"
          ]
        }
      ],
      "source": [
        "set_3 = {x for x in range(5)}\n",
        "set_4 = set(\"hello\")\n",
        "\n",
        "union_set = set_3.union(set_4)\n",
        "print(\"union:\", union_set)\n",
        "\n",
        "difference_set = set_3.difference(set_4)\n",
        "print(\"difference:\", difference_set)\n",
        "\n",
        "intersection_set = set_3.intersection(set_4)\n",
        "print(\"intersection:\", intersection_set)\n",
        "\n",
        "symmetric_difference_set = set_3.symmetric_difference(set_4)\n",
        "print(\"symmetric_difference:\", symmetric_difference_set)\n"
      ]
    },
    {
      "cell_type": "markdown",
      "metadata": {
        "id": "kWc8gkzTx7Ea"
      },
      "source": [
        "# VII. Словники (Dictionary)."
      ]
    },
    {
      "cell_type": "markdown",
      "metadata": {
        "id": "i5FLwj-B2ybQ"
      },
      "source": [
        "20. Створіть пустий словник. До нього додайте чотири пари елементів такі, щоб їхні ключі були різних типів. Чи може список бути ключем? Чому?"
      ]
    },
    {
      "cell_type": "code",
      "execution_count": 68,
      "metadata": {
        "id": "hxgv3BzrgLAV"
      },
      "outputs": [
        {
          "name": "stdout",
          "output_type": "stream",
          "text": [
            "{1: 'int key', 'two': 'str key', 3.0: 'float key', (4, 5): 'tuple key'}\n"
          ]
        }
      ],
      "source": [
        "dict_1 = {}\n",
        "\n",
        "dict_1[1] = \"int key\"\n",
        "dict_1[\"two\"] = \"str key\"\n",
        "dict_1[3.0] = \"float key\"\n",
        "dict_1[(4, 5)] = \"tuple key\"\n",
        "\n",
        "print(dict_1)"
      ]
    },
    {
      "cell_type": "markdown",
      "metadata": {
        "id": "zwa7UVN-gR3m"
      },
      "source": [
        "списки не можуть бути ключами у словнику, бо ключі повинні бути захешованими, тобто незмінними від моменту створення хешу(по суті, унікальний ідентифікатор кожного ключа для зручного пошуку і їх порівняння), а список, як змінний тип даних, не є хешованим, тому не може бути використаний як ключ у словнику. а от кортеж, який є іммутабл типом даних, як раз може"
      ]
    },
    {
      "cell_type": "markdown",
      "metadata": {
        "id": "WM_pMlJsgoNf"
      },
      "source": [
        "21. Створіть словник, де значенням в одній з пар теж буде словник, який теж має вкладений словник. Виведіть на екран значення, що міститься в словнику, що знаходиться на найнижчому рівні ієрархії вкладеності (найбільш внутрішній)."
      ]
    },
    {
      "cell_type": "code",
      "execution_count": 69,
      "metadata": {
        "id": "60dlP7IHhAy4"
      },
      "outputs": [
        {
          "name": "stdout",
          "output_type": "stream",
          "text": [
            "inner_value\n"
          ]
        }
      ],
      "source": [
        "nested_dict = {\n",
        "    \"key1\": \"value1\",\n",
        "    \"key2\": {\n",
        "        \"nested_key1\": \"nested_value1\",\n",
        "        \"nested_key2\": {\n",
        "            \"inner_key\": \"inner_value\"\n",
        "        }\n",
        "    }\n",
        "}\n",
        "\n",
        "print(nested_dict[\"key2\"][\"nested_key2\"][\"inner_key\"])"
      ]
    },
    {
      "cell_type": "markdown",
      "metadata": {
        "id": "xOZP0hkx6cCr"
      },
      "source": [
        "# Вітаю! Ви велика(ий) молодець, що впоралась(вся). Похваліть себе та побалуйте чимось приємним. Я Вами пишаюся."
      ]
    }
  ],
  "metadata": {
    "colab": {
      "provenance": []
    },
    "kernelspec": {
      "display_name": "Python 3",
      "name": "python3"
    },
    "language_info": {
      "codemirror_mode": {
        "name": "ipython",
        "version": 3
      },
      "file_extension": ".py",
      "mimetype": "text/x-python",
      "name": "python",
      "nbconvert_exporter": "python",
      "pygments_lexer": "ipython3",
      "version": "3.10.5"
    }
  },
  "nbformat": 4,
  "nbformat_minor": 0
}
