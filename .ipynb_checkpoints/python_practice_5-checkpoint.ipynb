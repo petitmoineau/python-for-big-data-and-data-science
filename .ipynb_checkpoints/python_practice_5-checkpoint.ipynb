{
 "cells": [
  {
   "cell_type": "markdown",
   "metadata": {
    "id": "5qV_sehzFCTp"
   },
   "source": [
    "# I. OOP"
   ]
  },
  {
   "cell_type": "markdown",
   "metadata": {
    "id": "tx_U_hOALyfg"
   },
   "source": [
    "1. (6б). Створіть клас Animal, додайте три атрибути, один з яких має значення за замовчуванням та два методи на свій розсуд."
   ]
  },
  {
   "cell_type": "code",
   "execution_count": 5,
   "metadata": {
    "id": "-Vf895KaL88N"
   },
   "outputs": [],
   "source": [
    "class Animal:\n",
    "    def __init__(self, name, species, age=12):\n",
    "        self.name = name\n",
    "        self.species = species\n",
    "        self.age = age\n",
    "\n",
    "    def make_sound(self):\n",
    "        print(f\"ja ja serr gutt - {self.name} says\")\n",
    "\n",
    "    def describe(self):\n",
    "        print(f\"{self.name} is a {self.age}-year-old {self.species}.\")"
   ]
  },
  {
   "cell_type": "markdown",
   "metadata": {
    "id": "X_UlOMB0L93w"
   },
   "source": [
    "2. (2б). Створіть два обʼєкти цього класу, де один з обʼєктів створюється із дефолтним значенням атрибуту. На одному обʼєкті отримайте значення його атрибуту, а на іншому викличте один з його методів."
   ]
  },
  {
   "cell_type": "code",
   "execution_count": 6,
   "metadata": {
    "id": "7gBu0ESOMCpG"
   },
   "outputs": [
    {
     "name": "stdout",
     "output_type": "stream",
     "text": [
      "Mathilda's age is 12.\n",
      "ja ja serr gutt - Ursula says\n"
     ]
    }
   ],
   "source": [
    "Mathilda = Animal(\"Mathilda\", \"dog\")\n",
    "Ursula = Animal(\"Ursula\", \"hamster\", age=2)\n",
    "\n",
    "print(f\"{Mathilda.name}'s age is {Mathilda.age}.\")\n",
    "Ursula.make_sound()"
   ]
  },
  {
   "cell_type": "markdown",
   "metadata": {
    "id": "HoqSCZt1MHn5"
   },
   "source": [
    "3. (5б). Створіть клас, де атрибути мають різні рівні доступу. Спробуйте отримати їхні значення та опишіть результати."
   ]
  },
  {
   "cell_type": "code",
   "execution_count": 10,
   "metadata": {
    "id": "r9b3vJxBMSPV"
   },
   "outputs": [
    {
     "name": "stdout",
     "output_type": "stream",
     "text": [
      "public attr: hey yo\n",
      "protected attr: nah i wouldnt reccomend doing that\n",
      "не для тебе мама квіточку ростила: 'AccessModifiers' object has no attribute '__private_attribute'\n"
     ]
    }
   ],
   "source": [
    "class AccessModifiers:\n",
    "    def __init__(self):\n",
    "        self.public_attribute = \"hey yo\"\n",
    "        self._protected_attribute = \"nah i wouldnt reccomend doing that\"\n",
    "        self.__private_attribute = \"na-ah\"\n",
    "\n",
    "test = AccessModifiers()\n",
    "\n",
    "print(\"public attr:\", test.public_attribute)\n",
    "print(\"protected attr:\", test._protected_attribute)  # not recommended\n",
    "\n",
    "try:\n",
    "    print(\"private attr:\", test.__private_attribute)  # :(\n",
    "except AttributeError as e:\n",
    "    print(\"не для тебе мама квіточку ростила:\", e)\n"
   ]
  },
  {
   "cell_type": "markdown",
   "metadata": {
    "id": "5op2m2vgMSkZ"
   },
   "source": [
    "4. (7б). Як ви розумієте термін self? Для чого використовується метод __init __?"
   ]
  },
  {
   "cell_type": "markdown",
   "metadata": {
    "id": "DyiPqNRvMasx"
   },
   "source": [
    "self - це посилання на поточний екземпляр класу. використовується для доступу до атрибутів та методів - членів класу. якшо викликати метод класу, то пайтон імплісітлі передає посилання на себе(self) як перший аргумент методу.\n",
    "\n",
    "__init__ це типу конструктор класу і викликається автоматично, коли створюється новий екземпляр класу. в конструкторі можна проініціалізувати атрибути екземпляра класу або зробити будь яку іншу підготовчу роботу для подальшого використання екземпляру."
   ]
  },
  {
   "cell_type": "markdown",
   "metadata": {
    "id": "-6X8EGfjMd2y"
   },
   "source": [
    "5. (9б). Створіть клас Фігура без атрибутів, з методом get_area для отримання площі фігури, що повертає 0 та __add __, який приймає self та other в якості аргументів, а повертає суму площин фігур self та other."
   ]
  },
  {
   "cell_type": "code",
   "execution_count": 11,
   "metadata": {
    "id": "4rvO_wYUMaEr"
   },
   "outputs": [],
   "source": [
    "class Figure:\n",
    "    def get_area(self):\n",
    "        return 0\n",
    "\n",
    "    def __add__(self, other):\n",
    "        return self.get_area() + other.get_area()"
   ]
  },
  {
   "cell_type": "markdown",
   "metadata": {
    "id": "SFcKnnv5Mo_z"
   },
   "source": [
    "6. (11б). Створіть 2 дочірніх класи від Фігури: Трикутник та Коло, які мають атрибути, необхідні для розрахунку площин. Визначте метод get_area в кожному з них так, щоби вони розраховували площу в залежності від формули для кожного типу фігури. Створіть обʼєкт класу Трикутник та обʼєкт класу Коло. Виконайте операцію суми за допомогою оператора + між ними."
   ]
  },
  {
   "cell_type": "code",
   "execution_count": 12,
   "metadata": {},
   "outputs": [],
   "source": [
    "import math"
   ]
  },
  {
   "cell_type": "code",
   "execution_count": 13,
   "metadata": {
    "id": "H3GVNr69Muf3"
   },
   "outputs": [],
   "source": [
    "class Triangle(Figure):\n",
    "    def __init__(self, base, height):\n",
    "        self.base = base\n",
    "        self.height = height\n",
    "\n",
    "    def get_area(self):\n",
    "        return 0.5 * self.base * self.height\n",
    "\n",
    "class Circle(Figure):\n",
    "    def __init__(self, radius):\n",
    "        self.radius = radius\n",
    "\n",
    "    def get_area(self):\n",
    "        return math.pi * self.radius ** 2"
   ]
  },
  {
   "cell_type": "code",
   "execution_count": 15,
   "metadata": {},
   "outputs": [
    {
     "name": "stdout",
     "output_type": "stream",
     "text": [
      "total area of the triangle 25.0 and circle 153.93804002589985: 178.94\n"
     ]
    }
   ],
   "source": [
    "triangle = Triangle(base=10, height=5)\n",
    "circle = Circle(radius=7)\n",
    "\n",
    "total_area = triangle + circle\n",
    "print(f\"total area of the triangle {triangle.get_area()} and circle {circle.get_area()}: {total_area:.2f}\")"
   ]
  },
  {
   "cell_type": "markdown",
   "metadata": {
    "id": "HCvR206YMvLK"
   },
   "source": [
    "7. (3б). Продемонструйте різницю між isinstance та issubclass."
   ]
  },
  {
   "cell_type": "code",
   "execution_count": 18,
   "metadata": {
    "id": "L_V1bBvDM0GN"
   },
   "outputs": [
    {
     "name": "stdout",
     "output_type": "stream",
     "text": [
      "true bc var triangle is an instance of Triangle class : True\n",
      "true bc var triangle is an instance of Triangle class and Triangle is a subclass of the Figure class : True\n",
      "true bc Triangle is a subclass of Figure class : True\n",
      "false bc Figure is not a subclass of Triangle class : False\n"
     ]
    }
   ],
   "source": [
    "print(f\"true bc var triangle is an instance of Triangle class : {isinstance(triangle, Triangle)}\")\n",
    "print(f\"true bc var triangle is an instance of Triangle class and Triangle is a subclass of the Figure class : {isinstance(triangle, Figure)}\")\n",
    "\n",
    "print(f\"true bc Triangle is a subclass of Figure class : {issubclass(Triangle, Figure)}\")\n",
    "print(f\"false bc Figure is not a subclass of Triangle class : {issubclass(Figure, Triangle)}\") "
   ]
  },
  {
   "cell_type": "markdown",
   "metadata": {
    "id": "jjsaBZ-iM0Qq"
   },
   "source": [
    "8. (13б). Створіть клас BankAccount з приватними атрибутами balance та account_number. Реалізуйте методи поповнення та зняття коштів, забезпечивши належну інкапсуляцію. Підказка: використовуйте декоратори property та setter."
   ]
  },
  {
   "cell_type": "code",
   "execution_count": 19,
   "metadata": {
    "id": "xCvZ7lh8M7YA"
   },
   "outputs": [],
   "source": [
    "class BankAccount:\n",
    "    def __init__(self, account_number, balance=0):\n",
    "        self.__account_number = account_number\n",
    "        self.__balance = balance\n",
    "\n",
    "    @property\n",
    "    def account_number(self):\n",
    "        return self.__account_number\n",
    "    \n",
    "    @property\n",
    "    def balance(self):\n",
    "        return self.__balance\n",
    "\n",
    "    @balance.setter\n",
    "    def balance(self, value):\n",
    "        if value < 0:\n",
    "            raise ValueError(\"balance cannot be negative.\")\n",
    "        self.__balance = value\n",
    "\n",
    "\n",
    "    def deposit(self, amount):\n",
    "        if amount <= 0:\n",
    "            raise ValueError(\"deposit amount must be positive.\")\n",
    "        self.__balance += amount\n",
    "\n",
    "    def withdraw(self, amount):\n",
    "        if amount <= 0:\n",
    "            raise ValueError(\"withdrawal amount must be positive.\")\n",
    "        if amount > self.__balance:\n",
    "            raise ValueError(\"insufficient funds.\")\n",
    "        self.__balance -= amount"
   ]
  },
  {
   "cell_type": "code",
   "execution_count": 21,
   "metadata": {},
   "outputs": [
    {
     "name": "stdout",
     "output_type": "stream",
     "text": [
      "after deposit: 1500\n",
      "after withdrawal: 1300\n"
     ]
    }
   ],
   "source": [
    "account = BankAccount(\"000000000\", 1000)\n",
    "print(f\"bank account #{account.account_number()} is set with balance {account.balance()}\")\n",
    "\n",
    "\n",
    "account.deposit(500)\n",
    "print(\"after deposit:\", account.balance)\n",
    "\n",
    "account.withdraw(200)\n",
    "print(\"after withdrawal:\", account.balance)"
   ]
  },
  {
   "cell_type": "markdown",
   "metadata": {
    "id": "tIzL2SJTM8ft"
   },
   "source": [
    "9. (11б). Створіть клас Library, який містить список об'єктів типу Book. Реалізуйте методи для додавання книги, видалення книги та відображення списку книг."
   ]
  },
  {
   "cell_type": "code",
   "execution_count": null,
   "metadata": {
    "id": "HWxfJKLtNAUZ"
   },
   "outputs": [],
   "source": [
    "class Book:\n",
    "    def __init__(self, title, author):\n",
    "        self.title = title\n",
    "        self.author = author\n",
    "\n",
    "    def __str__(self):\n",
    "        return f\"'{self.title}' by {self.author}\"\n",
    "\n",
    "class Library:\n",
    "    def __init__(self):\n",
    "        self.books = []\n",
    "\n",
    "    def add_book(self, book):\n",
    "        self.books.append(book)\n",
    "\n",
    "    def remove_book(self, title):\n",
    "        for book in self.books:\n",
    "            if book.title == title:\n",
    "                self.books.remove(book)\n",
    "                return f\"Book '{title}' removed.\"\n",
    "        return f\"Book '{title}' not found.\"\n",
    "\n",
    "    def display_books(self):\n",
    "        if not self.books:\n",
    "            return \"The library is empty.\"\n",
    "        return \"\\n\".join(str(book) for book in self.books)\n",
    "\n",
    "# Створення екземпляра класу Library\n",
    "library = Library()\n",
    "\n",
    "# Додавання книг\n",
    "library.add_book(Book(\"The Catcher in the Rye\", \"J.D. Salinger\"))\n",
    "library.add_book(Book(\"1984\", \"George Orwell\"))\n",
    "\n",
    "# Відображення списку книг\n",
    "print(\"Books in the library:\")\n",
    "print(library.display_books())\n",
    "\n",
    "# Видалення книги\n",
    "print(library.remove_book(\"1984\"))\n",
    "\n",
    "# Відображення оновленого списку книг\n",
    "print(\"Books in the library after removal:\")\n",
    "print(library.display_books())\n"
   ]
  },
  {
   "cell_type": "markdown",
   "metadata": {
    "id": "lmV8pAwwNIqu"
   },
   "source": [
    "10. (13б). Створіть клас Person з атрибутами name та age. Створіть ще один клас Employee з такими атрибутами, як department та salary. Створіть клас Manager, який успадковує обидва класи Person та Employee. Продемонструйте використання множинної спадковості, створивши обʼєкт класу Manager та отримавши mro для цього класу."
   ]
  },
  {
   "cell_type": "code",
   "execution_count": null,
   "metadata": {
    "id": "R49grKlWNPeN"
   },
   "outputs": [],
   "source": []
  },
  {
   "cell_type": "markdown",
   "metadata": {
    "id": "dIJyUiNBFG8G"
   },
   "source": [
    "# II. Iterator"
   ]
  },
  {
   "cell_type": "markdown",
   "metadata": {
    "id": "13vsm0NyKIzL"
   },
   "source": [
    "11. (4б). Визначте рядок(str) з 4ма різними за значенням символами. Створіть ітератор на основі цього рядка. Викличте 5 разів функцію next на ітераторі, 4ри перших з них огорніть у ф-цію print()."
   ]
  },
  {
   "cell_type": "code",
   "execution_count": null,
   "metadata": {
    "id": "81ntabAkKuz-"
   },
   "outputs": [],
   "source": []
  },
  {
   "cell_type": "markdown",
   "metadata": {
    "id": "aekWHGXOLRsO"
   },
   "source": [
    "А що якщо викликати цю ж функцію на рядку?"
   ]
  },
  {
   "cell_type": "code",
   "execution_count": null,
   "metadata": {
    "id": "mxATGsErLV1i"
   },
   "outputs": [],
   "source": []
  },
  {
   "cell_type": "markdown",
   "metadata": {
    "id": "XwtMEopwJ4pH"
   },
   "source": [
    " 12. (5б). Опишіть своїми словами в одному реченні, як ви розумієте різницю між ітерабельними обʼєктами та ітераторами (можна на прикладі)."
   ]
  },
  {
   "cell_type": "markdown",
   "metadata": {
    "id": "-sHrODc3KFn8"
   },
   "source": [
    "*місце для відповіді"
   ]
  },
  {
   "cell_type": "markdown",
   "metadata": {
    "id": "E9qJWmNbK8Gl"
   },
   "source": [
    "13. (11б). Створіть клас, що має визначений Iterator Protocol та при кожному виклику next повертає літери англійської абетки, поки вони не вичерпаються."
   ]
  },
  {
   "cell_type": "code",
   "execution_count": null,
   "metadata": {
    "id": "cqx-g_RsLo6I"
   },
   "outputs": [],
   "source": []
  },
  {
   "cell_type": "markdown",
   "metadata": {
    "id": "Z3E3S_s1Fv7-"
   },
   "source": [
    "# Вітаю! Ви велика(ий) молодець, що впоралась(вся). Похваліть себе та побалуйте чимось приємним. Я Вами пишаюся."
   ]
  }
 ],
 "metadata": {
  "colab": {
   "provenance": []
  },
  "kernelspec": {
   "display_name": "Python 3 (ipykernel)",
   "language": "python",
   "name": "python3"
  },
  "language_info": {
   "codemirror_mode": {
    "name": "ipython",
    "version": 3
   },
   "file_extension": ".py",
   "mimetype": "text/x-python",
   "name": "python",
   "nbconvert_exporter": "python",
   "pygments_lexer": "ipython3",
   "version": "3.10.5"
  }
 },
 "nbformat": 4,
 "nbformat_minor": 1
}
